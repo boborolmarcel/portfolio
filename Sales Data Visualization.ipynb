{
 "cells": [
  {
   "cell_type": "code",
   "execution_count": 5,
   "id": "9333aef8-9f57-497b-abc8-4d219ad536f8",
   "metadata": {},
   "outputs": [],
   "source": [
    "import pandas as pd\n",
    "import matplotlib.pyplot as plt\n",
    "import seaborn as sns"
   ]
  },
  {
   "cell_type": "code",
   "execution_count": 6,
   "id": "463c1045-1d8d-498e-a631-b4dae0a2adc7",
   "metadata": {},
   "outputs": [
    {
     "data": {
      "text/html": [
       "<div>\n",
       "<style scoped>\n",
       "    .dataframe tbody tr th:only-of-type {\n",
       "        vertical-align: middle;\n",
       "    }\n",
       "\n",
       "    .dataframe tbody tr th {\n",
       "        vertical-align: top;\n",
       "    }\n",
       "\n",
       "    .dataframe thead th {\n",
       "        text-align: right;\n",
       "    }\n",
       "</style>\n",
       "<table border=\"1\" class=\"dataframe\">\n",
       "  <thead>\n",
       "    <tr style=\"text-align: right;\">\n",
       "      <th></th>\n",
       "      <th>Invoice ID</th>\n",
       "      <th>Branch</th>\n",
       "      <th>City</th>\n",
       "      <th>Customer type</th>\n",
       "      <th>Gender</th>\n",
       "      <th>Product line</th>\n",
       "      <th>Unit price</th>\n",
       "      <th>Quantity</th>\n",
       "      <th>Tax 5%</th>\n",
       "      <th>Total</th>\n",
       "      <th>Date</th>\n",
       "      <th>Time</th>\n",
       "      <th>Payment</th>\n",
       "    </tr>\n",
       "  </thead>\n",
       "  <tbody>\n",
       "    <tr>\n",
       "      <th>0</th>\n",
       "      <td>750-67-8428</td>\n",
       "      <td>A</td>\n",
       "      <td>Yangon</td>\n",
       "      <td>Member</td>\n",
       "      <td>Female</td>\n",
       "      <td>Health and beauty</td>\n",
       "      <td>74.69</td>\n",
       "      <td>7.0</td>\n",
       "      <td>26.1415</td>\n",
       "      <td>548.9715</td>\n",
       "      <td>01/05/2019</td>\n",
       "      <td>13:08</td>\n",
       "      <td>Ewallet</td>\n",
       "    </tr>\n",
       "    <tr>\n",
       "      <th>1</th>\n",
       "      <td>226-31-3081</td>\n",
       "      <td>C</td>\n",
       "      <td>Naypyitaw</td>\n",
       "      <td>Normal</td>\n",
       "      <td>Female</td>\n",
       "      <td>Electronic accessories</td>\n",
       "      <td>15.28</td>\n",
       "      <td>5.0</td>\n",
       "      <td>3.8200</td>\n",
       "      <td>80.2200</td>\n",
       "      <td>03/08/2019</td>\n",
       "      <td>10:29</td>\n",
       "      <td>Cash</td>\n",
       "    </tr>\n",
       "    <tr>\n",
       "      <th>2</th>\n",
       "      <td>631-41-3108</td>\n",
       "      <td>A</td>\n",
       "      <td>Yangon</td>\n",
       "      <td>Normal</td>\n",
       "      <td>Male</td>\n",
       "      <td>Home and lifestyle</td>\n",
       "      <td>46.33</td>\n",
       "      <td>7.0</td>\n",
       "      <td>16.2155</td>\n",
       "      <td>340.5255</td>\n",
       "      <td>03/03/2019</td>\n",
       "      <td>13:23</td>\n",
       "      <td>Credit card</td>\n",
       "    </tr>\n",
       "    <tr>\n",
       "      <th>3</th>\n",
       "      <td>123-19-1176</td>\n",
       "      <td>A</td>\n",
       "      <td>Yangon</td>\n",
       "      <td>Member</td>\n",
       "      <td>Male</td>\n",
       "      <td>Health and beauty</td>\n",
       "      <td>58.22</td>\n",
       "      <td>8.0</td>\n",
       "      <td>23.2880</td>\n",
       "      <td>489.0480</td>\n",
       "      <td>01/27/2019</td>\n",
       "      <td>20:33</td>\n",
       "      <td>Ewallet</td>\n",
       "    </tr>\n",
       "    <tr>\n",
       "      <th>4</th>\n",
       "      <td>373-73-7910</td>\n",
       "      <td>A</td>\n",
       "      <td>Yangon</td>\n",
       "      <td>Normal</td>\n",
       "      <td>Male</td>\n",
       "      <td>Sports and travel</td>\n",
       "      <td>86.31</td>\n",
       "      <td>7.0</td>\n",
       "      <td>30.2085</td>\n",
       "      <td>634.3785</td>\n",
       "      <td>02/08/2019</td>\n",
       "      <td>10:37</td>\n",
       "      <td>Ewallet</td>\n",
       "    </tr>\n",
       "  </tbody>\n",
       "</table>\n",
       "</div>"
      ],
      "text/plain": [
       "    Invoice ID Branch       City Customer type  Gender  \\\n",
       "0  750-67-8428      A     Yangon        Member  Female   \n",
       "1  226-31-3081      C  Naypyitaw        Normal  Female   \n",
       "2  631-41-3108      A     Yangon        Normal    Male   \n",
       "3  123-19-1176      A     Yangon        Member    Male   \n",
       "4  373-73-7910      A     Yangon        Normal    Male   \n",
       "\n",
       "             Product line  Unit price  Quantity   Tax 5%     Total  \\\n",
       "0       Health and beauty       74.69       7.0  26.1415  548.9715   \n",
       "1  Electronic accessories       15.28       5.0   3.8200   80.2200   \n",
       "2      Home and lifestyle       46.33       7.0  16.2155  340.5255   \n",
       "3       Health and beauty       58.22       8.0  23.2880  489.0480   \n",
       "4       Sports and travel       86.31       7.0  30.2085  634.3785   \n",
       "\n",
       "         Date   Time      Payment  \n",
       "0  01/05/2019  13:08      Ewallet  \n",
       "1  03/08/2019  10:29         Cash  \n",
       "2  03/03/2019  13:23  Credit card  \n",
       "3  01/27/2019  20:33      Ewallet  \n",
       "4  02/08/2019  10:37      Ewallet  "
      ]
     },
     "execution_count": 6,
     "metadata": {},
     "output_type": "execute_result"
    }
   ],
   "source": [
    "sales = pd.read_csv(\"supermarket_sales.csv\")\n",
    "sales.head()"
   ]
  },
  {
   "cell_type": "markdown",
   "id": "09470044-7b8f-4b53-9a8e-c90ec399c82c",
   "metadata": {},
   "source": [
    "Create a bar graph to total sales by payment method\n",
    "and total sales by gender"
   ]
  },
  {
   "cell_type": "code",
   "execution_count": 7,
   "id": "a24cf835-7539-465c-9581-56cee39b9134",
   "metadata": {},
   "outputs": [
    {
     "name": "stdout",
     "output_type": "stream",
     "text": [
      "<class 'pandas.core.frame.DataFrame'>\n",
      "RangeIndex: 1007 entries, 0 to 1006\n",
      "Data columns (total 13 columns):\n",
      " #   Column         Non-Null Count  Dtype  \n",
      "---  ------         --------------  -----  \n",
      " 0   Invoice ID     1000 non-null   object \n",
      " 1   Branch         1000 non-null   object \n",
      " 2   City           1000 non-null   object \n",
      " 3   Customer type  1000 non-null   object \n",
      " 4   Gender         1000 non-null   object \n",
      " 5   Product line   1000 non-null   object \n",
      " 6   Unit price     1000 non-null   float64\n",
      " 7   Quantity       1000 non-null   float64\n",
      " 8   Tax 5%         1000 non-null   float64\n",
      " 9   Total          1000 non-null   float64\n",
      " 10  Date           1000 non-null   object \n",
      " 11  Time           1000 non-null   object \n",
      " 12  Payment        1000 non-null   object \n",
      "dtypes: float64(4), object(9)\n",
      "memory usage: 102.4+ KB\n"
     ]
    }
   ],
   "source": [
    "sales.info()"
   ]
  },
  {
   "cell_type": "code",
   "execution_count": 8,
   "id": "1b1cc77d-3f0b-4784-894b-be7f31d1db3b",
   "metadata": {},
   "outputs": [
    {
     "data": {
      "text/plain": [
       "Invoice ID       7\n",
       "Branch           7\n",
       "City             7\n",
       "Customer type    7\n",
       "Gender           7\n",
       "Product line     7\n",
       "Unit price       7\n",
       "Quantity         7\n",
       "Tax 5%           7\n",
       "Total            7\n",
       "Date             7\n",
       "Time             7\n",
       "Payment          7\n",
       "dtype: int64"
      ]
     },
     "execution_count": 8,
     "metadata": {},
     "output_type": "execute_result"
    }
   ],
   "source": [
    "sales.isnull().sum()"
   ]
  },
  {
   "cell_type": "code",
   "execution_count": 9,
   "id": "96ebb8f5-6885-483a-9ba8-3db0b1a8e8e1",
   "metadata": {},
   "outputs": [],
   "source": [
    "sales = sales.dropna()"
   ]
  },
  {
   "cell_type": "code",
   "execution_count": 10,
   "id": "4b4b12a3-c3b3-4189-8e7a-1f48700f2596",
   "metadata": {},
   "outputs": [
    {
     "data": {
      "text/plain": [
       "Invoice ID       0\n",
       "Branch           0\n",
       "City             0\n",
       "Customer type    0\n",
       "Gender           0\n",
       "Product line     0\n",
       "Unit price       0\n",
       "Quantity         0\n",
       "Tax 5%           0\n",
       "Total            0\n",
       "Date             0\n",
       "Time             0\n",
       "Payment          0\n",
       "dtype: int64"
      ]
     },
     "execution_count": 10,
     "metadata": {},
     "output_type": "execute_result"
    }
   ],
   "source": [
    "sales.isnull().sum()"
   ]
  },
  {
   "cell_type": "code",
   "execution_count": 8,
   "id": "07864bbc-a830-4dc6-ad47-06de0c9724fe",
   "metadata": {},
   "outputs": [
    {
     "data": {
      "text/html": [
       "<div>\n",
       "<style scoped>\n",
       "    .dataframe tbody tr th:only-of-type {\n",
       "        vertical-align: middle;\n",
       "    }\n",
       "\n",
       "    .dataframe tbody tr th {\n",
       "        vertical-align: top;\n",
       "    }\n",
       "\n",
       "    .dataframe thead th {\n",
       "        text-align: right;\n",
       "    }\n",
       "</style>\n",
       "<table border=\"1\" class=\"dataframe\">\n",
       "  <thead>\n",
       "    <tr style=\"text-align: right;\">\n",
       "      <th></th>\n",
       "      <th>Invoice ID</th>\n",
       "      <th>Branch</th>\n",
       "      <th>City</th>\n",
       "      <th>Customer type</th>\n",
       "      <th>Gender</th>\n",
       "      <th>Product line</th>\n",
       "      <th>Unit price</th>\n",
       "      <th>Quantity</th>\n",
       "      <th>Tax 5%</th>\n",
       "      <th>Total</th>\n",
       "      <th>Date</th>\n",
       "      <th>Time</th>\n",
       "    </tr>\n",
       "    <tr>\n",
       "      <th>Payment</th>\n",
       "      <th></th>\n",
       "      <th></th>\n",
       "      <th></th>\n",
       "      <th></th>\n",
       "      <th></th>\n",
       "      <th></th>\n",
       "      <th></th>\n",
       "      <th></th>\n",
       "      <th></th>\n",
       "      <th></th>\n",
       "      <th></th>\n",
       "      <th></th>\n",
       "    </tr>\n",
       "  </thead>\n",
       "  <tbody>\n",
       "    <tr>\n",
       "      <th>Cash</th>\n",
       "      <td>226-31-3081529-56-3974829-34-3910299-46-180564...</td>\n",
       "      <td>CBABBBABBBCBCCBCACAACBAAACCCCCABCCBCCCABACCBAB...</td>\n",
       "      <td>NaypyitawMandalayYangonMandalayMandalayMandala...</td>\n",
       "      <td>NormalMemberNormalMemberNormalNormalNormalMemb...</td>\n",
       "      <td>FemaleMaleFemaleFemaleMaleFemaleMaleMaleMaleMa...</td>\n",
       "      <td>Electronic accessoriesElectronic accessoriesHe...</td>\n",
       "      <td>19525.09</td>\n",
       "      <td>1896.0</td>\n",
       "      <td>5343.170</td>\n",
       "      <td>112206.570</td>\n",
       "      <td>03/08/201903/09/201903/29/201901/15/201902/08/...</td>\n",
       "      <td>10:2917:0319:2116:1915:3119:4815:3612:4314:491...</td>\n",
       "    </tr>\n",
       "    <tr>\n",
       "      <th>Credit card</th>\n",
       "      <td>631-41-3108665-32-9167692-92-5582656-95-934976...</td>\n",
       "      <td>AABAAABAABABBCCACCCACCABCCCCCACBCACBACCCCBABCA...</td>\n",
       "      <td>YangonYangonMandalayYangonYangonYangonMandalay...</td>\n",
       "      <td>NormalMemberMemberMemberNormalNormalNormalMemb...</td>\n",
       "      <td>MaleFemaleFemaleFemaleMaleMaleMaleFemaleFemale...</td>\n",
       "      <td>Home and lifestyleHealth and beautyFood and be...</td>\n",
       "      <td>16916.68</td>\n",
       "      <td>1722.0</td>\n",
       "      <td>4798.432</td>\n",
       "      <td>100767.072</td>\n",
       "      <td>03/03/201901/10/201902/20/201903/11/201901/01/...</td>\n",
       "      <td>13:2317:1513:2711:0310:3918:0012:2019:2012:171...</td>\n",
       "    </tr>\n",
       "    <tr>\n",
       "      <th>Ewallet</th>\n",
       "      <td>750-67-8428123-19-1176373-73-7910699-14-302635...</td>\n",
       "      <td>AAACACBAABCBAACCAACBBCBBACBCBBACBCCCAABAABABBA...</td>\n",
       "      <td>YangonYangonYangonNaypyitawYangonNaypyitawMand...</td>\n",
       "      <td>MemberMemberNormalNormalMemberNormalMemberNorm...</td>\n",
       "      <td>FemaleMaleMaleMaleFemaleFemaleFemaleFemaleMale...</td>\n",
       "      <td>Health and beautyHealth and beautySports and t...</td>\n",
       "      <td>19230.36</td>\n",
       "      <td>1892.0</td>\n",
       "      <td>5237.767</td>\n",
       "      <td>109993.107</td>\n",
       "      <td>01/05/201901/27/201902/08/201903/25/201902/25/...</td>\n",
       "      <td>13:0820:3310:3718:3014:3611:3818:0710:2516:481...</td>\n",
       "    </tr>\n",
       "  </tbody>\n",
       "</table>\n",
       "</div>"
      ],
      "text/plain": [
       "                                                    Invoice ID  \\\n",
       "Payment                                                          \n",
       "Cash         226-31-3081529-56-3974829-34-3910299-46-180564...   \n",
       "Credit card  631-41-3108665-32-9167692-92-5582656-95-934976...   \n",
       "Ewallet      750-67-8428123-19-1176373-73-7910699-14-302635...   \n",
       "\n",
       "                                                        Branch  \\\n",
       "Payment                                                          \n",
       "Cash         CBABBBABBBCBCCBCACAACBAAACCCCCABCCBCCCABACCBAB...   \n",
       "Credit card  AABAAABAABABBCCACCCACCABCCCCCACBCACBACCCCBABCA...   \n",
       "Ewallet      AAACACBAABCBAACCAACBBCBBACBCBBACBCCCAABAABABBA...   \n",
       "\n",
       "                                                          City  \\\n",
       "Payment                                                          \n",
       "Cash         NaypyitawMandalayYangonMandalayMandalayMandala...   \n",
       "Credit card  YangonYangonMandalayYangonYangonYangonMandalay...   \n",
       "Ewallet      YangonYangonYangonNaypyitawYangonNaypyitawMand...   \n",
       "\n",
       "                                                 Customer type  \\\n",
       "Payment                                                          \n",
       "Cash         NormalMemberNormalMemberNormalNormalNormalMemb...   \n",
       "Credit card  NormalMemberMemberMemberNormalNormalNormalMemb...   \n",
       "Ewallet      MemberMemberNormalNormalMemberNormalMemberNorm...   \n",
       "\n",
       "                                                        Gender  \\\n",
       "Payment                                                          \n",
       "Cash         FemaleMaleFemaleFemaleMaleFemaleMaleMaleMaleMa...   \n",
       "Credit card  MaleFemaleFemaleFemaleMaleMaleMaleFemaleFemale...   \n",
       "Ewallet      FemaleMaleMaleMaleFemaleFemaleFemaleFemaleMale...   \n",
       "\n",
       "                                                  Product line  Unit price  \\\n",
       "Payment                                                                      \n",
       "Cash         Electronic accessoriesElectronic accessoriesHe...    19525.09   \n",
       "Credit card  Home and lifestyleHealth and beautyFood and be...    16916.68   \n",
       "Ewallet      Health and beautyHealth and beautySports and t...    19230.36   \n",
       "\n",
       "             Quantity    Tax 5%       Total  \\\n",
       "Payment                                       \n",
       "Cash           1896.0  5343.170  112206.570   \n",
       "Credit card    1722.0  4798.432  100767.072   \n",
       "Ewallet        1892.0  5237.767  109993.107   \n",
       "\n",
       "                                                          Date  \\\n",
       "Payment                                                          \n",
       "Cash         03/08/201903/09/201903/29/201901/15/201902/08/...   \n",
       "Credit card  03/03/201901/10/201902/20/201903/11/201901/01/...   \n",
       "Ewallet      01/05/201901/27/201902/08/201903/25/201902/25/...   \n",
       "\n",
       "                                                          Time  \n",
       "Payment                                                         \n",
       "Cash         10:2917:0319:2116:1915:3119:4815:3612:4314:491...  \n",
       "Credit card  13:2317:1513:2711:0310:3918:0012:2019:2012:171...  \n",
       "Ewallet      13:0820:3310:3718:3014:3611:3818:0710:2516:481...  "
      ]
     },
     "execution_count": 8,
     "metadata": {},
     "output_type": "execute_result"
    }
   ],
   "source": [
    "psales = sales.groupby([\"Payment\"])\n",
    "psales.sum()"
   ]
  },
  {
   "cell_type": "code",
   "execution_count": 11,
   "id": "d736295d-f51a-4d34-85ac-ae815b764768",
   "metadata": {},
   "outputs": [
    {
     "data": {
      "text/html": [
       "<div>\n",
       "<style scoped>\n",
       "    .dataframe tbody tr th:only-of-type {\n",
       "        vertical-align: middle;\n",
       "    }\n",
       "\n",
       "    .dataframe tbody tr th {\n",
       "        vertical-align: top;\n",
       "    }\n",
       "\n",
       "    .dataframe thead th {\n",
       "        text-align: right;\n",
       "    }\n",
       "</style>\n",
       "<table border=\"1\" class=\"dataframe\">\n",
       "  <thead>\n",
       "    <tr style=\"text-align: right;\">\n",
       "      <th></th>\n",
       "      <th>Invoice ID</th>\n",
       "      <th>Branch</th>\n",
       "      <th>City</th>\n",
       "      <th>Customer type</th>\n",
       "      <th>Product line</th>\n",
       "      <th>Unit price</th>\n",
       "      <th>Quantity</th>\n",
       "      <th>Tax 5%</th>\n",
       "      <th>Total</th>\n",
       "      <th>Date</th>\n",
       "      <th>Time</th>\n",
       "      <th>Payment</th>\n",
       "    </tr>\n",
       "    <tr>\n",
       "      <th>Gender</th>\n",
       "      <th></th>\n",
       "      <th></th>\n",
       "      <th></th>\n",
       "      <th></th>\n",
       "      <th></th>\n",
       "      <th></th>\n",
       "      <th></th>\n",
       "      <th></th>\n",
       "      <th></th>\n",
       "      <th></th>\n",
       "      <th></th>\n",
       "      <th></th>\n",
       "    </tr>\n",
       "  </thead>\n",
       "  <tbody>\n",
       "    <tr>\n",
       "      <th>Female</th>\n",
       "      <td>750-67-8428226-31-3081355-53-5943315-22-566566...</td>\n",
       "      <td>ACACABBAABABAABCCACBBCBBCABCACBCBABCCACCCBCCBC...</td>\n",
       "      <td>YangonNaypyitawYangonNaypyitawYangonMandalayMa...</td>\n",
       "      <td>MemberNormalMemberNormalMemberMemberMemberNorm...</td>\n",
       "      <td>Health and beautyElectronic accessoriesElectro...</td>\n",
       "      <td>27687.24</td>\n",
       "      <td>2869.0</td>\n",
       "      <td>7994.425</td>\n",
       "      <td>167882.925</td>\n",
       "      <td>01/05/201903/08/201902/25/201902/24/201901/10/...</td>\n",
       "      <td>13:0810:2914:3611:3817:1513:2718:0710:2519:211...</td>\n",
       "      <td>EwalletCashEwalletEwalletCredit cardCredit car...</td>\n",
       "    </tr>\n",
       "    <tr>\n",
       "      <th>Male</th>\n",
       "      <td>631-41-3108123-19-1176373-73-7910699-14-302652...</td>\n",
       "      <td>AAACBAAACBBAABABBBAABCCBBCCBAACCABAACCACCCCAAB...</td>\n",
       "      <td>YangonYangonYangonNaypyitawMandalayYangonYango...</td>\n",
       "      <td>NormalMemberNormalNormalMemberNormalNormalNorm...</td>\n",
       "      <td>Home and lifestyleHealth and beautySports and ...</td>\n",
       "      <td>27984.89</td>\n",
       "      <td>2641.0</td>\n",
       "      <td>7384.944</td>\n",
       "      <td>155083.824</td>\n",
       "      <td>03/03/201901/27/201902/08/201903/25/201903/09/...</td>\n",
       "      <td>13:2320:3310:3718:3017:0316:4810:3918:0011:241...</td>\n",
       "      <td>Credit cardEwalletEwalletEwalletCashEwalletCre...</td>\n",
       "    </tr>\n",
       "  </tbody>\n",
       "</table>\n",
       "</div>"
      ],
      "text/plain": [
       "                                               Invoice ID  \\\n",
       "Gender                                                      \n",
       "Female  750-67-8428226-31-3081355-53-5943315-22-566566...   \n",
       "Male    631-41-3108123-19-1176373-73-7910699-14-302652...   \n",
       "\n",
       "                                                   Branch  \\\n",
       "Gender                                                      \n",
       "Female  ACACABBAABABAABCCACBBCBBCABCACBCBABCCACCCBCCBC...   \n",
       "Male    AAACBAAACBBAABABBBAABCCBBCCBAACCABAACCACCCCAAB...   \n",
       "\n",
       "                                                     City  \\\n",
       "Gender                                                      \n",
       "Female  YangonNaypyitawYangonNaypyitawYangonMandalayMa...   \n",
       "Male    YangonYangonYangonNaypyitawMandalayYangonYango...   \n",
       "\n",
       "                                            Customer type  \\\n",
       "Gender                                                      \n",
       "Female  MemberNormalMemberNormalMemberMemberMemberNorm...   \n",
       "Male    NormalMemberNormalNormalMemberNormalNormalNorm...   \n",
       "\n",
       "                                             Product line  Unit price  \\\n",
       "Gender                                                                  \n",
       "Female  Health and beautyElectronic accessoriesElectro...    27687.24   \n",
       "Male    Home and lifestyleHealth and beautySports and ...    27984.89   \n",
       "\n",
       "        Quantity    Tax 5%       Total  \\\n",
       "Gender                                   \n",
       "Female    2869.0  7994.425  167882.925   \n",
       "Male      2641.0  7384.944  155083.824   \n",
       "\n",
       "                                                     Date  \\\n",
       "Gender                                                      \n",
       "Female  01/05/201903/08/201902/25/201902/24/201901/10/...   \n",
       "Male    03/03/201901/27/201902/08/201903/25/201903/09/...   \n",
       "\n",
       "                                                     Time  \\\n",
       "Gender                                                      \n",
       "Female  13:0810:2914:3611:3817:1513:2718:0710:2519:211...   \n",
       "Male    13:2320:3310:3718:3017:0316:4810:3918:0011:241...   \n",
       "\n",
       "                                                  Payment  \n",
       "Gender                                                     \n",
       "Female  EwalletCashEwalletEwalletCredit cardCredit car...  \n",
       "Male    Credit cardEwalletEwalletEwalletCashEwalletCre...  "
      ]
     },
     "execution_count": 11,
     "metadata": {},
     "output_type": "execute_result"
    }
   ],
   "source": [
    "psales = sales.groupby([\"Gender\"])\n",
    "psales.sum()"
   ]
  },
  {
   "cell_type": "code",
   "execution_count": 12,
   "id": "01c3eeac-6c62-409c-b15c-ecf0639b1ebf",
   "metadata": {},
   "outputs": [
    {
     "data": {
      "image/png": "[encoded data removed]",
      "text/plain": [
       "<Figure size 640x480 with 1 Axes>"
      ]
     },
     "metadata": {},
     "output_type": "display_data"
    }
   ],
   "source": [
    "pcategories = [\"Cash\", \"Credit Card\", \"Ewallet\"]\n",
    "plt.bar(pcategories, sales.groupby([\"Payment\"]).sum()[\"Total\"] )\n",
    "plt.ylabel(\"Payment Method\")\n",
    "plt.xlabel(\"\")\n",
    "plt.show()"
   ]
  },
  {
   "cell_type": "code",
   "execution_count": 15,
   "id": "a685a8d1-93c3-4c1b-b26c-f78c846db64d",
   "metadata": {},
   "outputs": [
    {
     "data": {
      "text/plain": [
       "<function matplotlib.pyplot.show(close=None, block=None)>"
      ]
     },
     "execution_count": 15,
     "metadata": {},
     "output_type": "execute_result"
    },
    {
     "data": {
      "image/png": "[encoded data removed]",
      "text/plain": [
       "<Figure size 640x480 with 1 Axes>"
      ]
     },
     "metadata": {},
     "output_type": "display_data"
    }
   ],
   "source": [
    "gcategories = [\"Male\", \"Female\"]\n",
    "plt.bar(gcategories, sales.groupby([\"Gender\"]).sum()[\"Total\"])\n",
    "plt.ylabel(\"Total Sales\")\n",
    "plt.xlabel(\"\")\n",
    "plt.show()"
   ]
  },
  {
   "cell_type": "markdown",
   "id": "413993ad-7def-4808-9d85-d21801c92c78",
   "metadata": {},
   "source": [
    "Side by side graph"
   ]
  },
  {
   "cell_type": "code",
   "execution_count": 13,
   "id": "1271077b-811d-4ebd-8233-0415d61efb8b",
   "metadata": {},
   "outputs": [
    {
     "data": {
      "image/png": "[encoded data removed]",
      "text/plain": [
       "<Figure size 1200x1000 with 2 Axes>"
      ]
     },
     "metadata": {},
     "output_type": "display_data"
    }
   ],
   "source": [
    "fig = plt.figure(figsize = (12,10))\n",
    "\n",
    "pcategories = [\"Cash\", \"Credit Card\", \"Ewallet\"]\n",
    "#graph 1\n",
    "plt.subplot(1,2,1)\n",
    "plt.bar(pcategories, sales.groupby([\"Payment\"]).sum()[\"Total\"], color = \"grey\")\n",
    "plt.xticks(pcategories)\n",
    "plt.ylim(0, 200000)\n",
    "\n",
    "\n",
    "gcategories = [\"Male\", \"Female\"]\n",
    "#graph 2\n",
    "plt.subplot(1,2,2)\n",
    "plt.bar(gcategories, sales.groupby([\"Gender\"]).sum()[\"Total\"], color = \"grey\")\n",
    "plt.xticks(gcategories)\n",
    "plt.ylim(0, 200000)\n",
    "\n",
    "plt.show()"
   ]
  },
  {
   "cell_type": "code",
   "execution_count": 16,
   "id": "f48fbb9d-31f6-4497-bd8e-2ce4dfbb3eb3",
   "metadata": {},
   "outputs": [
    {
     "data": {
      "image/png": "[encoded data removed]",
      "text/plain": [
       "<Figure size 1200x800 with 1 Axes>"
      ]
     },
     "metadata": {},
     "output_type": "display_data"
    }
   ],
   "source": [
    "fig = plt.figure(figsize = (12,8))\n",
    "\n",
    "product_line = sales.groupby(\"Product line\")\n",
    "quantity = product_line.sum()[\"Quantity\"]\n",
    "\n",
    "sort_sum = quantity.sort_values(ascending = True)\n",
    "sort_sum = pd.DataFrame(sort_sum)\n",
    "sort_sum = sort_sum.reset_index()\n",
    "\n",
    "product = sort_sum[\"Product line\"]\n",
    "quantity = sort_sum[\"Quantity\"]\n",
    "\n",
    "g = sns.barplot(x = sort_sum[\"Product line\"], y = sort_sum[\"Quantity\"], palette = \"pastel\")\n",
    "\n",
    "for i in g.patches:\n",
    "    g.text(i.get_x()+i.get_width()/3.5, i.get_height()+60, round(i.get_height()), fontsize = 18)\n",
    "\n",
    "for i in [\"top\", \"left\", \"right\"]:\n",
    "    g.spines[i].set_visible(False)\n",
    "\n",
    "plt.xlabel(\"\")\n",
    "plt.ylabel(\"\")\n",
    "plt.show()"
   ]
  },
  {
   "cell_type": "code",
   "execution_count": null,
   "id": "35e508c5-e31c-4b36-9962-836120fedd40",
   "metadata": {},
   "outputs": [],
   "source": []
  }
 ],
 "metadata": {
  "kernelspec": {
   "display_name": "Python 3 (ipykernel)",
   "language": "python",
   "name": "python3"
  },
  "language_info": {
   "codemirror_mode": {
    "name": "ipython",
    "version": 3
   },
   "file_extension": ".py",
   "mimetype": "text/x-python",
   "name": "python",
   "nbconvert_exporter": "python",
   "pygments_lexer": "ipython3",
   "version": "3.11.7"
  }
 },
 "nbformat": 4,
 "nbformat_minor": 5
}
